{
 "cells": [
  {
   "cell_type": "code",
   "execution_count": 1,
   "metadata": {},
   "outputs": [],
   "source": [
    "import numpy as np"
   ]
  },
  {
   "cell_type": "code",
   "execution_count": 2,
   "metadata": {},
   "outputs": [],
   "source": [
    "def read_img(path):\n",
    "    arr = []\n",
    "    with open(path, 'rb') as f:\n",
    "        f.readline()\n",
    "        f.readline()\n",
    "        f.readline()\n",
    "        while ((byte:=f.read(1)) and (len(arr)<10304)):\n",
    "            arr.append(int.from_bytes(byte, \"big\"))\n",
    "    return arr\n",
    "\n",
    "def make_df():\n",
    "    arr = []\n",
    "    labels = []\n",
    "    for i in range(1,41):\n",
    "        for j in range(1,11):\n",
    "            path = 's' + str(i) + '/' + str(j) + '.pgm'\n",
    "            labels.append(i)\n",
    "            arr.append(read_img(path))\n",
    "    return np.array(arr), np.array(labels)"
   ]
  },
  {
   "cell_type": "code",
   "execution_count": 3,
   "metadata": {},
   "outputs": [
    {
     "data": {
      "text/plain": [
       "10304"
      ]
     },
     "execution_count": 3,
     "metadata": {},
     "output_type": "execute_result"
    }
   ],
   "source": [
    "len(read_img('s1/1.pgm'))"
   ]
  },
  {
   "cell_type": "code",
   "execution_count": 3,
   "metadata": {},
   "outputs": [],
   "source": [
    "def train_test(matrix, labels):\n",
    "    train_data = []\n",
    "    test_data = []\n",
    "    train_labels = []\n",
    "    test_labels = []\n",
    "\n",
    "    even = True\n",
    "    for data, label in zip(matrix, labels):\n",
    "        if even:\n",
    "            train_data.append(data)\n",
    "            train_labels.append(label)\n",
    "        else:\n",
    "            test_data.append(data)\n",
    "            test_labels.append(label)\n",
    "        even = not even\n",
    "\n",
    "    return np.array(train_data), np.array(train_labels), np.array(test_data), np.array(test_labels)"
   ]
  },
  {
   "cell_type": "code",
   "execution_count": 4,
   "metadata": {},
   "outputs": [],
   "source": [
    "X, y = make_df()\n",
    "\n",
    "X_train, y_train, X_test, y_test = train_test(X,y)"
   ]
  },
  {
   "cell_type": "code",
   "execution_count": 12,
   "metadata": {},
   "outputs": [
    {
     "data": {
      "text/plain": [
       "(200, 10304)"
      ]
     },
     "execution_count": 12,
     "metadata": {},
     "output_type": "execute_result"
    }
   ],
   "source": [
    "X_train.shape"
   ]
  },
  {
   "cell_type": "code",
   "execution_count": 5,
   "metadata": {},
   "outputs": [
    {
     "data": {
      "text/plain": [
       "(10304, 10304)"
      ]
     },
     "execution_count": 5,
     "metadata": {},
     "output_type": "execute_result"
    }
   ],
   "source": [
    "mu = np.mean(X_train, axis=0)\n",
    "Z = X - 1*np.transpose(mu)\n",
    "cov = np.cov(Z, rowvar=False, bias=True)\n",
    "cov.shape"
   ]
  },
  {
   "cell_type": "code",
   "execution_count": 16,
   "metadata": {},
   "outputs": [
    {
     "name": "stdout",
     "output_type": "stream",
     "text": [
      "Calculating mu: .. Done.\n",
      "Calculating Z: .. Done.\n",
      "Calculating covariance matrix: .. Done.\n"
     ]
    }
   ],
   "source": [
    "print(\"Calculating mu: ..\", end=' ')\n",
    "mu = np.mean(X_train, axis=0)\n",
    "print('Done.')\n",
    "print(\"Calculating Z: ..\", end=' ')\n",
    "Z = X_train - 1*np.transpose(mu)\n",
    "print('Done.')\n",
    "print(\"Calculating covariance matrix: ..\", end=' ')\n",
    "# cov = np.cov(Z, rowvar=False,bias=True)\n",
    "cov = (np.transpose(Z) @ Z) / X_train.shape[0]\n",
    "print('Done.')"
   ]
  },
  {
   "cell_type": "code",
   "execution_count": 17,
   "metadata": {},
   "outputs": [
    {
     "data": {
      "text/plain": [
       "(10304, 10304)"
      ]
     },
     "execution_count": 17,
     "metadata": {},
     "output_type": "execute_result"
    }
   ],
   "source": [
    "cov.shape"
   ]
  },
  {
   "cell_type": "code",
   "execution_count": 18,
   "metadata": {},
   "outputs": [
    {
     "name": "stdout",
     "output_type": "stream",
     "text": [
      "Calculating eigen vectors and values: .. Done.\n"
     ]
    }
   ],
   "source": [
    "print(\"Calculating eigen vectors and values: ..\", end=' ')\n",
    "x,y = np.linalg.eig(cov)\n",
    "print('Done.')"
   ]
  },
  {
   "cell_type": "code",
   "execution_count": 19,
   "metadata": {},
   "outputs": [
    {
     "name": "stdout",
     "output_type": "stream",
     "text": [
      "Sorting eigen vectors and values: .. Done.\n"
     ]
    }
   ],
   "source": [
    "print(\"Sorting eigen vectors and values: ..\", end=' ')\n",
    "eigen_values, eigen_vectors = zip(*sorted(zip(x,y), reverse=True)) # sorts eigen values and eigen vectors based on eigen values\n",
    "eigen_vectors = np.array(eigen_vectors)\n",
    "print('Done.')"
   ]
  },
  {
   "cell_type": "code",
   "execution_count": 20,
   "metadata": {},
   "outputs": [
    {
     "name": "stdout",
     "output_type": "stream",
     "text": [
      "Calculating sum of eigen vectors: .. Done. -- eigen vectors shape: (10304, 10304)\n"
     ]
    }
   ],
   "source": [
    "print(\"Calculating sum of eigen vectors: ..\", end=' ')\n",
    "total_variance = np.sum(eigen_values)\n",
    "print('Done. -- eigen vectors shape: {}'.format(eigen_vectors.shape))"
   ]
  },
  {
   "cell_type": "code",
   "execution_count": 37,
   "metadata": {},
   "outputs": [
    {
     "data": {
      "text/plain": [
       "(16009799.676750034+5.169878828456423e-26j)"
      ]
     },
     "execution_count": 37,
     "metadata": {},
     "output_type": "execute_result"
    }
   ],
   "source": [
    "total_variance"
   ]
  },
  {
   "cell_type": "code",
   "execution_count": 38,
   "metadata": {},
   "outputs": [
    {
     "data": {
      "text/plain": [
       "(0.18072160746605662-5.8358557330371405e-34j)"
      ]
     },
     "execution_count": 38,
     "metadata": {},
     "output_type": "execute_result"
    }
   ],
   "source": [
    "max(eigen_values)/total_variance"
   ]
  },
  {
   "cell_type": "code",
   "execution_count": 21,
   "metadata": {},
   "outputs": [
    {
     "name": "stdout",
     "output_type": "stream",
     "text": [
      "Finding top n eigen values to reach alpha (0.8): .. Done. -- Found top 36 eigen values reach (0.803622261197201-9.325975862915845e-34j) variance.\n"
     ]
    }
   ],
   "source": [
    "lim = 0\n",
    "sum = 0\n",
    "print(\"Finding top n eigen values to reach alpha ({}): ..\".format(0.8), end=' ')\n",
    "for i,val in enumerate(eigen_values):\n",
    "    sum+=val\n",
    "    if (sum/total_variance)>=0.8:\n",
    "        lim = i+1\n",
    "        break\n",
    "print('Done. -- Found top {} eigen values reach {} variance.'.format(lim, sum/total_variance))"
   ]
  },
  {
   "cell_type": "code",
   "execution_count": 24,
   "metadata": {},
   "outputs": [],
   "source": [
    "U = eigen_vectors[:,:lim]\n",
    "# A = np.array([np.transpose(U)@x for x in X_train])\n",
    "A = Z.dot(U)"
   ]
  },
  {
   "cell_type": "code",
   "execution_count": 42,
   "metadata": {},
   "outputs": [],
   "source": [
    "def PCA(X, alpha):\n",
    "    print(\"Calculating mu: ..\", end=' ')\n",
    "    mu = np.mean(X, axis=0)\n",
    "    print('Done.')\n",
    "    print(\"Calculating Z: ..\", end=' ')\n",
    "    Z = X - 1*np.transpose(mu)\n",
    "    print('Done.')\n",
    "    print(\"Calculating covariance matrix: ..\", end=' ')\n",
    "    # cov = np.cov(Z, rowvar=False,bias=True)\n",
    "    cov = (np.transpose(Z) @ Z) / X.shape[0]\n",
    "    print('Done.')\n",
    "    print(\"Calculating eigen vectors and values: ..\", end=' ')\n",
    "    x,y = np.linalg.eig(cov)\n",
    "    print('Done.')\n",
    "    print(\"Sorting eigen vectors and values: ..\", end=' ')\n",
    "    eigen_values, eigen_vectors = zip(*sorted(zip(x,y), reverse=True)) # sorts eigen values and eigen vectors based on eigen values\n",
    "    eigen_vectors = np.array(eigen_vectors)\n",
    "    print('Done.')\n",
    "    print(\"Calculating sum of eigen vectors: ..\", end=' ')\n",
    "    total_variance = np.sum(eigen_values)\n",
    "    print('Done. -- eigen vectors shape: {}'.format(eigen_vectors.shape))\n",
    "    lim = 0\n",
    "    sum = 0\n",
    "    print(\"Finding top n eigen values to reach alpha ({}): ..\".format(alpha), end=' ')\n",
    "    for i,val in enumerate(eigen_values):\n",
    "        sum+=val\n",
    "        if (sum/total_variance)>=alpha:\n",
    "            lim = i+1\n",
    "            break\n",
    "    print('Done. -- Found top {} eigen values reach {} variance.'.format(lim, sum/total_variance))\n",
    "    \n",
    "    U = eigen_vectors[:,:lim]\n",
    "    A = np.array([np.transpose(U)@x for x in X])\n",
    "\n",
    "    return A\n",
    "    "
   ]
  },
  {
   "cell_type": "code",
   "execution_count": 43,
   "metadata": {},
   "outputs": [
    {
     "name": "stdout",
     "output_type": "stream",
     "text": [
      "Calculating mu: .. Done.\n",
      "Calculating Z: .. Done.\n",
      "Calculating covariance matrix: .. Done.\n",
      "Calculating eigen vectors and values: .. Done.\n",
      "Sorting eigen vectors and values: .. Done.\n",
      "Calculating sum of eigen vectors: .. Done. -- eigen vectors shape: (10304, 10304)\n",
      "Finding top n eigen values to reach alpha (0.8): .. Done. -- Found top 36 eigen values reach (0.803622261197201-9.325975862915845e-34j) variance.\n"
     ]
    },
    {
     "data": {
      "text/plain": [
       "(200, 36)"
      ]
     },
     "execution_count": 43,
     "metadata": {},
     "output_type": "execute_result"
    }
   ],
   "source": [
    "alpha = [0.8,0.85,0.9,0.95]\n",
    "a = PCA(X_train, alpha[0])\n",
    "a.shape"
   ]
  },
  {
   "cell_type": "code",
   "execution_count": null,
   "metadata": {},
   "outputs": [],
   "source": [
    "class PCA:\n",
    "    def __init__(self, train_data, alpha):\n",
    "        self.X = train_data\n",
    "        self.alpha = alpha\n",
    "        self.trained = False\n",
    "\n",
    "    def find_values(self):\n",
    "        print(\"Finding top n eigen values to reach alpha ({}): ..\".format(self.alpha), end=' ')\n",
    "        sum = 0\n",
    "        r = 0\n",
    "        for i,val in enumerate(self.eigen_values):\n",
    "            sum+=val\n",
    "            if (sum/self.total_variance)>=self.alpha:\n",
    "                r = i+1\n",
    "                break\n",
    "        print('Done. -- Found top {} eigen values reach {} variance.'.format(lim, sum/self.total_variance))\n",
    "\n",
    "        return r\n",
    "    \n",
    "    def update_alpha(self, alpha):\n",
    "        self.alpha = alpha\n",
    "        if self.trained:\n",
    "            r = self.find_values()\n",
    "            self.U = self.eigen_vectors[:,:r]\n",
    "            self.A = np.array([np.transpose(self.U)@x for x in self.X])\n",
    "    \n",
    "    def train(self):\n",
    "        print(\"Calculating mu: ..\", end=' ')\n",
    "        self.mu = np.mean(self.X, axis=0)\n",
    "        print('Done.')\n",
    "        print(\"Calculating Z: ..\", end=' ')\n",
    "        self.Z = self.X - 1*np.transpose(self.mu)\n",
    "        print('Done.')\n",
    "        print(\"Calculating covariance matrix: ..\", end=' ')\n",
    "        # cov = np.cov(Z, rowvar=False,bias=True)\n",
    "        cov = (np.transpose(self.Z) @ self.Z) / self.Z.shape[0]\n",
    "        print('Done.')\n",
    "        print(\"Calculating eigen vectors and values: ..\", end=' ')\n",
    "        x,y = np.linalg.eig(cov)\n",
    "        print('Done.')\n",
    "        print(\"Sorting eigen vectors and values: ..\", end=' ')\n",
    "        self.eigen_values, eigen_vectors = zip(*sorted(zip(x,y), reverse=True)) # sorts eigen values and eigen vectors based on eigen values\n",
    "        self.eigen_vectors = np.array(eigen_vectors)\n",
    "        print('Done.')\n",
    "        print(\"Calculating sum of eigen vectors: ..\", end=' ')\n",
    "        self.total_variance = np.sum(self.eigen_values)\n",
    "        print('Done. -- eigen vectors shape: {}'.format(self.eigen_vectors.shape))\n",
    "        r = self.find_values()\n",
    "        self.U = self.eigen_vectors[:,:r]\n",
    "        # self.A = np.array([np.transpose(self.U)@x for x in self.Z])\n",
    "        self.A = self.Z.dot(U)\n",
    "        self.trained = True\n",
    "\n",
    "    def project_point(self, p):\n",
    "        if not self.trained:\n",
    "            return None\n",
    "        return np.transpose(self.U)@(p-self.mu)"
   ]
  },
  {
   "cell_type": "code",
   "execution_count": null,
   "metadata": {},
   "outputs": [],
   "source": []
  }
 ],
 "metadata": {
  "kernelspec": {
   "display_name": "Python 3",
   "language": "python",
   "name": "python3"
  },
  "language_info": {
   "codemirror_mode": {
    "name": "ipython",
    "version": 3
   },
   "file_extension": ".py",
   "mimetype": "text/x-python",
   "name": "python",
   "nbconvert_exporter": "python",
   "pygments_lexer": "ipython3",
   "version": "3.10.0"
  },
  "orig_nbformat": 4,
  "vscode": {
   "interpreter": {
    "hash": "1a7959b352381a7a27ad519c9265a0ff1a41aa6a0a335848b4ab02493aea1123"
   }
  }
 },
 "nbformat": 4,
 "nbformat_minor": 2
}
