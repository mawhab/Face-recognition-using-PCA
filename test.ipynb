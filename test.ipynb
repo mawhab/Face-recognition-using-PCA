{
 "cells": [
  {
   "cell_type": "code",
   "execution_count": 12,
   "metadata": {},
   "outputs": [],
   "source": [
    "import pandas as pd\n",
    "import numpy as np"
   ]
  },
  {
   "cell_type": "code",
   "execution_count": 20,
   "metadata": {},
   "outputs": [],
   "source": [
    "def read_img(path):\n",
    "    arr = []\n",
    "    with open(path, 'rb') as f:\n",
    "        f.readline()\n",
    "        f.readline()\n",
    "        f.readline()\n",
    "        while ((byte:=f.read(1)) and (len(arr)<10304)):\n",
    "            arr.append(int.from_bytes(byte, \"big\"))\n",
    "    return arr\n",
    "\n",
    "def make_df():\n",
    "    arr = []\n",
    "    labels = []\n",
    "    for i in range(1,41):\n",
    "        for j in range(1,11):\n",
    "            path = 's' + str(i) + '/' + str(j) + '.pgm'\n",
    "            labels.append(i)\n",
    "            arr.append(read_img(path))\n",
    "    return arr, labels"
   ]
  },
  {
   "cell_type": "code",
   "execution_count": 14,
   "metadata": {},
   "outputs": [
    {
     "data": {
      "text/plain": [
       "10304"
      ]
     },
     "execution_count": 14,
     "metadata": {},
     "output_type": "execute_result"
    }
   ],
   "source": [
    "len(read_img('s1/1.pgm'))"
   ]
  },
  {
   "cell_type": "code",
   "execution_count": 15,
   "metadata": {},
   "outputs": [],
   "source": [
    "def train_test(matrix, labels):\n",
    "    train_data = []\n",
    "    test_data = []\n",
    "    train_labels = []\n",
    "    test_labels = []\n",
    "\n",
    "    even = True\n",
    "    for data, label in zip(matrix, labels):\n",
    "        if even:\n",
    "            train_data.append(data)\n",
    "            train_labels.append(label)\n",
    "        else:\n",
    "            test_data.append(data)\n",
    "            test_labels.append(label)\n",
    "        even = not even\n",
    "\n",
    "    return train_data, train_labels, test_data, test_labels"
   ]
  },
  {
   "cell_type": "code",
   "execution_count": 21,
   "metadata": {},
   "outputs": [],
   "source": [
    "X, y = make_df()\n",
    "\n",
    "X_train, y_train, X_test, y_test = train_test(X,y)"
   ]
  },
  {
   "cell_type": "code",
   "execution_count": 17,
   "metadata": {},
   "outputs": [
    {
     "data": {
      "text/plain": [
       "array([[ 48,  49,  45, ...,  47,  46,  46],\n",
       "       [ 60,  60,  62, ...,  32,  34,  34],\n",
       "       [ 39,  44,  53, ...,  29,  26,  29],\n",
       "       ...,\n",
       "       [125, 119, 124, ...,  36,  39,  40],\n",
       "       [119, 120, 120, ...,  89,  94,  85],\n",
       "       [125, 124, 124, ...,  36,  35,  34]])"
      ]
     },
     "execution_count": 17,
     "metadata": {},
     "output_type": "execute_result"
    }
   ],
   "source": [
    "np.array(X)"
   ]
  },
  {
   "cell_type": "code",
   "execution_count": 18,
   "metadata": {},
   "outputs": [],
   "source": [
    "def PCA(X, alpha):\n",
    "    mu = np.mean(X, axis=0)\n",
    "    Z = X - 1*np.transpose(mu)\n",
    "    cov = np.cov(Z)\n",
    "    eigen_values, eigen_vectors = np.linalg.eig(cov)\n",
    "    total_variance = np.sum(eigen_values)\n",
    "    lim = 0\n",
    "    sum = 0\n",
    "    for i,val in enumerate(eigen_values):\n",
    "        sum+=val\n",
    "        if (sum/total_variance)>=alpha:\n",
    "            lim = i+1\n",
    "            break\n",
    "    \n",
    "    U = eigen_vectors[:,:lim]\n",
    "    A = [np.transpose(U)@x for x in X]\n",
    "\n",
    "    return A\n",
    "    "
   ]
  },
  {
   "cell_type": "code",
   "execution_count": 19,
   "metadata": {},
   "outputs": [
    {
     "name": "stdout",
     "output_type": "stream",
     "text": [
      "[86.115 86.265 86.685 ... 76.47  77.36  77.045]\n"
     ]
    }
   ],
   "source": [
    "alpha = [0.8,0.85,0.9,0.95]"
   ]
  }
 ],
 "metadata": {
  "kernelspec": {
   "display_name": "Python 3",
   "language": "python",
   "name": "python3"
  },
  "language_info": {
   "codemirror_mode": {
    "name": "ipython",
    "version": 3
   },
   "file_extension": ".py",
   "mimetype": "text/x-python",
   "name": "python",
   "nbconvert_exporter": "python",
   "pygments_lexer": "ipython3",
   "version": "3.10.0"
  },
  "orig_nbformat": 4,
  "vscode": {
   "interpreter": {
    "hash": "1a7959b352381a7a27ad519c9265a0ff1a41aa6a0a335848b4ab02493aea1123"
   }
  }
 },
 "nbformat": 4,
 "nbformat_minor": 2
}
