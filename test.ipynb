{
 "cells": [
  {
   "cell_type": "code",
   "execution_count": 2,
   "metadata": {},
   "outputs": [],
   "source": [
    "import pandas as pd\n",
    "import numpy as np"
   ]
  },
  {
   "cell_type": "code",
   "execution_count": 39,
   "metadata": {},
   "outputs": [],
   "source": [
    "def read_img(path):\n",
    "    arr = []\n",
    "    with open(path, 'rb') as f:\n",
    "        f.readline()\n",
    "        f.readline()\n",
    "        f.readline()\n",
    "        while (byte:=f.read(1)):\n",
    "            arr.append(int.from_bytes(byte, \"big\"))\n",
    "    return arr\n",
    "\n",
    "def make_df():\n",
    "    arr = []\n",
    "    labels = []\n",
    "    for i in range(1,41):\n",
    "        for j in range(1,11):\n",
    "            path = 's' + str(i) + '/' + str(j) + '.pgm'\n",
    "            labels.append(i)\n",
    "            arr.append(read_img(path))\n",
    "    return arr, labels"
   ]
  },
  {
   "cell_type": "code",
   "execution_count": 26,
   "metadata": {},
   "outputs": [
    {
     "data": {
      "text/plain": [
       "10304"
      ]
     },
     "execution_count": 26,
     "metadata": {},
     "output_type": "execute_result"
    }
   ],
   "source": [
    "len(read_img('s1/1.pgm'))"
   ]
  },
  {
   "cell_type": "code",
   "execution_count": 40,
   "metadata": {},
   "outputs": [],
   "source": [
    "def train_test(matrix, labels):\n",
    "    train_data = []\n",
    "    test_data = []\n",
    "    train_labels = []\n",
    "    test_labels = []\n",
    "\n",
    "    even = True\n",
    "    for data, label in zip(matrix, labels):\n",
    "        if even:\n",
    "            train_data.append(data)\n",
    "            train_labels.append(label)\n",
    "        else:\n",
    "            test_data.append(data)\n",
    "            test_labels.append(label)\n",
    "        even = not even\n",
    "\n",
    "    return train_data, train_labels, test_data, test_labels"
   ]
  },
  {
   "cell_type": "code",
   "execution_count": 41,
   "metadata": {},
   "outputs": [],
   "source": [
    "X, y = make_df()\n",
    "\n",
    "X_train, y_train, X_test, y_test = train_test(X,y)"
   ]
  },
  {
   "cell_type": "code",
   "execution_count": 36,
   "metadata": {},
   "outputs": [
    {
     "data": {
      "text/plain": [
       "(400, 10304)"
      ]
     },
     "execution_count": 36,
     "metadata": {},
     "output_type": "execute_result"
    }
   ],
   "source": [
    "X.shape"
   ]
  },
  {
   "cell_type": "code",
   "execution_count": null,
   "metadata": {},
   "outputs": [],
   "source": []
  }
 ],
 "metadata": {
  "kernelspec": {
   "display_name": "Python 3",
   "language": "python",
   "name": "python3"
  },
  "language_info": {
   "codemirror_mode": {
    "name": "ipython",
    "version": 3
   },
   "file_extension": ".py",
   "mimetype": "text/x-python",
   "name": "python",
   "nbconvert_exporter": "python",
   "pygments_lexer": "ipython3",
   "version": "3.8.10"
  },
  "orig_nbformat": 4,
  "vscode": {
   "interpreter": {
    "hash": "e7370f93d1d0cde622a1f8e1c04877d8463912d04d973331ad4851f04de6915a"
   }
  }
 },
 "nbformat": 4,
 "nbformat_minor": 2
}
