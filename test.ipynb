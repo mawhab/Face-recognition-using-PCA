{
 "cells": [
  {
   "attachments": {},
   "cell_type": "markdown",
   "metadata": {},
   "source": [
    "### Imports"
   ]
  },
  {
   "cell_type": "code",
   "execution_count": 3,
   "metadata": {},
   "outputs": [],
   "source": [
    "import numpy as np\n",
    "import cv2\n",
    "from sklearn.metrics import accuracy_score\n",
    "import matplotlib.pyplot as plt\n",
    "from sklearn.neighbors import KNeighborsClassifier"
   ]
  },
  {
   "attachments": {},
   "cell_type": "markdown",
   "metadata": {},
   "source": [
    "### Setup"
   ]
  },
  {
   "attachments": {},
   "cell_type": "markdown",
   "metadata": {},
   "source": [
    "#### Generate dataset as matrix from images"
   ]
  },
  {
   "cell_type": "code",
   "execution_count": 4,
   "metadata": {},
   "outputs": [],
   "source": [
    "def generate_ds():\n",
    "    arr = []\n",
    "    labels = []\n",
    "    for i in range(1,41):\n",
    "        for j in range(1,11):\n",
    "            path = 's' + str(i) + '/' + str(j) + '.pgm'\n",
    "            labels.append(i)\n",
    "            arr.append(cv2.imread(path,-1).flatten())\n",
    "    return np.array(arr), np.array(labels)"
   ]
  },
  {
   "attachments": {},
   "cell_type": "markdown",
   "metadata": {},
   "source": [
    "#### Train test split"
   ]
  },
  {
   "cell_type": "code",
   "execution_count": 5,
   "metadata": {},
   "outputs": [],
   "source": [
    "def train_test_split(matrix, labels):\n",
    "    train_data = []\n",
    "    test_data = []\n",
    "    train_labels = []\n",
    "    test_labels = []\n",
    "\n",
    "    even = True\n",
    "    for data, label in zip(matrix, labels):\n",
    "        if even:\n",
    "            train_data.append(data)\n",
    "            train_labels.append(label)\n",
    "        else:\n",
    "            test_data.append(data)\n",
    "            test_labels.append(label)\n",
    "        even = not even\n",
    "\n",
    "    return np.array(train_data), np.array(train_labels), np.array(test_data), np.array(test_labels)"
   ]
  },
  {
   "cell_type": "code",
   "execution_count": 6,
   "metadata": {},
   "outputs": [],
   "source": [
    "X, y = generate_ds()\n",
    "X_train, y_train, X_test, y_test = train_test_split(X,y)"
   ]
  },
  {
   "cell_type": "code",
   "execution_count": 7,
   "metadata": {},
   "outputs": [
    {
     "data": {
      "text/plain": [
       "(200, 10304)"
      ]
     },
     "execution_count": 7,
     "metadata": {},
     "output_type": "execute_result"
    }
   ],
   "source": [
    "X_train.shape"
   ]
  },
  {
   "cell_type": "code",
   "execution_count": 8,
   "metadata": {},
   "outputs": [
    {
     "data": {
      "text/plain": [
       "(10304,)"
      ]
     },
     "execution_count": 8,
     "metadata": {},
     "output_type": "execute_result"
    }
   ],
   "source": [
    "np.mean(X_train,axis=0).shape"
   ]
  },
  {
   "attachments": {},
   "cell_type": "markdown",
   "metadata": {},
   "source": [
    "### Principal Component Analysis class"
   ]
  },
  {
   "cell_type": "code",
   "execution_count": 10,
   "metadata": {},
   "outputs": [],
   "source": [
    "class PCA:\n",
    "    def __init__(self, train_data, alpha):\n",
    "        self.X = train_data\n",
    "        self.alpha = alpha\n",
    "        self.trained = False\n",
    "\n",
    "    def find_values(self):\n",
    "        print(\"Finding top n eigen values to reach alpha ({}): ..\".format(self.alpha), end=' ')\n",
    "        sum = 0\n",
    "        r = 0\n",
    "        for i,val in enumerate(self.eigen_values):\n",
    "            sum+=val\n",
    "            if (sum/self.total_variance)>=self.alpha:\n",
    "                r = i+1\n",
    "                break\n",
    "        print('Done. -- Found top {} eigen values reach {} variance.'.format(r, sum/self.total_variance))\n",
    "\n",
    "        return r\n",
    "    \n",
    "    def update_alpha(self, alpha):\n",
    "        self.alpha = alpha\n",
    "        if self.trained:\n",
    "            r = self.find_values()\n",
    "            self.U = self.eigen_vectors[:,:r]\n",
    "            self.A = self.X.dot(self.U)\n",
    "    \n",
    "    def train(self):\n",
    "        print(\"Calculating mu: ..\", end=' ')\n",
    "        self.mu = np.mean(self.X, axis=0)\n",
    "        print('Done.')\n",
    "        print(\"Calculating Z: ..\", end=' ')\n",
    "        self.Z = self.X - 1*np.transpose(self.mu)\n",
    "        print('Done.')\n",
    "        print(\"Calculating covariance matrix: ..\", end=' ')\n",
    "        # cov = np.cov(Z, rowvar=False,bias=True)\n",
    "        cov = (np.transpose(self.Z) @ self.Z) / self.Z.shape[0]\n",
    "        print('Done.')\n",
    "        print(\"Calculating eigen vectors and values: ..\", end=' ')\n",
    "        x,y = np.linalg.eigh(cov)\n",
    "        # y = y.real.astype(np.float32)\n",
    "        print('Done.')\n",
    "        print(\"Sorting eigen vectors and values: ..\", end=' ')\n",
    "        # self.eigen_values, eigen_vectors = zip(*sorted(zip(x,y), reverse=True)) # sorts eigen values and eigen vectors based on eigen values\n",
    "        \n",
    "        idx = x.argsort()[::-1]   \n",
    "        self.eigen_values = x[idx]\n",
    "        eigen_vectors = y[:,idx]\n",
    "            \n",
    "        self.eigen_vectors = np.array(eigen_vectors)\n",
    "        print('Done.')\n",
    "        print(\"Calculating sum of eigen vectors: ..\", end=' ')\n",
    "        self.total_variance = np.sum(self.eigen_values)\n",
    "        print('Done. -- eigen vectors shape: {}'.format(self.eigen_vectors.shape))\n",
    "        r = self.find_values()\n",
    "        self.U = self.eigen_vectors[:,:r]\n",
    "        # self.A = np.array([np.transpose(self.U)@x for x in self.Z])\n",
    "        self.A = self.X.dot(self.U)\n",
    "        self.trained = True\n",
    "\n",
    "    def project_point(self, p):\n",
    "        if not self.trained:\n",
    "            return None\n",
    "        return np.transpose(self.U)@(p)\n",
    "    \n",
    "    def transform(self,X_test):\n",
    "        return (X_test).dot(self.U)"
   ]
  },
  {
   "cell_type": "code",
   "execution_count": 28,
   "metadata": {},
   "outputs": [
    {
     "name": "stdout",
     "output_type": "stream",
     "text": [
      "Calculating mu: .. Done.\n",
      "Calculating Z: .. Done.\n",
      "Calculating covariance matrix: .. Done.\n",
      "Calculating eigen vectors and values: .. Done.\n",
      "Sorting eigen vectors and values: .. Done.\n",
      "Calculating sum of eigen vectors: .. Done. -- eigen vectors shape: (10304, 10304)\n",
      "Finding top n eigen values to reach alpha (0.85): .. Done. -- Found top 51 eigen values reach (0.8506468639580901+5.579947051858906e-34j) variance.\n"
     ]
    }
   ],
   "source": [
    "pca = PCA(X_train,0.80)\n",
    "pca.train()"
   ]
  },
  {
   "cell_type": "code",
   "execution_count": 24,
   "metadata": {},
   "outputs": [
    {
     "name": "stdout",
     "output_type": "stream",
     "text": [
      "k = 1\taverage accuracy = 95.0%\n",
      "k = 3\taverage accuracy = 89.0%\n",
      "k = 5\taverage accuracy = 84.0%\n",
      "k = 7\taverage accuracy = 77.5%\n"
     ]
    }
   ],
   "source": [
    "k_neighbors = np.arange(1,8,2)\n",
    "accuracies = []\n",
    "for i,k in enumerate(k_neighbors):\n",
    "    knn = KNeighborsClassifier(n_neighbors=k)\n",
    "    knn.fit(pca.A.real,y_train)\n",
    "    y_pred = knn.predict((pca.transform(X_test).real))\n",
    "    accuracies.append(accuracy_score(y_pred,y_test))\n",
    "    print(f\"k = {k}\\taverage accuracy = {accuracies[i]*100}%\")\n",
    "    "
   ]
  },
  {
   "cell_type": "code",
   "execution_count": 271,
   "metadata": {},
   "outputs": [],
   "source": [
    "class KNN:\n",
    "    def __init__(self,n_neighbors=1):\n",
    "        self.n_neighbors = n_neighbors\n",
    "        \n",
    "    def fit(self,X_train,y_train):\n",
    "        self.X_train = X_train\n",
    "        self.y_train = y_train\n",
    "        \n",
    "    def most_frequent(self,arr):\n",
    "        return max(set(arr), key = arr.count)\n",
    "        \n",
    "    def predict(self,X_new):\n",
    "        self.y_pred = []\n",
    "        for x1 in X_new:\n",
    "            euclidean_dist = []\n",
    "            for i,x2 in enumerate(self.X_train):\n",
    "                norm = np.linalg.norm(x1-x2)\n",
    "                euclidean_dist.append([norm,i])\n",
    "            euclidean_dist.sort()\n",
    "            vote_idx = euclidean_dist[:self.n_neighbors]\n",
    "            votes = [self.y_train[n] for _,n in vote_idx]\n",
    "            final_vote = self.most_frequent(votes)\n",
    "            self.y_pred.append(final_vote)\n",
    "        return self.y_pred"
   ]
  },
  {
   "cell_type": "code",
   "execution_count": 30,
   "metadata": {},
   "outputs": [
    {
     "name": "stdout",
     "output_type": "stream",
     "text": [
      "k = 1\taverage accuracy = 95.0%\n",
      "k = 3\taverage accuracy = 90.0%\n",
      "k = 5\taverage accuracy = 84.0%\n",
      "k = 7\taverage accuracy = 76.5%\n"
     ]
    }
   ],
   "source": [
    "k_neighbors = np.arange(1,8,2)\n",
    "accuracies = []\n",
    "for i,k in enumerate(k_neighbors):\n",
    "    knn = KNN(n_neighbors=k)\n",
    "    knn.fit(pca.A,y_train)\n",
    "    y_pred = knn.predict((pca.transform(X_test)))\n",
    "    accuracies.append(accuracy_score(y_pred,y_test))\n",
    "    print(f\"k = {k}\\taverage accuracy = {accuracies[i]*100}%\")"
   ]
  },
  {
   "cell_type": "code",
   "execution_count": 96,
   "metadata": {},
   "outputs": [
    {
     "data": {
      "image/png": "[encoded data removed]",
      "text/plain": [
       "<Figure size 640x480 with 1 Axes>"
      ]
     },
     "metadata": {},
     "output_type": "display_data"
    }
   ],
   "source": [
    "plt.plot(k_neighbors,np.array(accuracies))\n",
    "plt.show()"
   ]
  },
  {
   "cell_type": "code",
   "execution_count": 11,
   "metadata": {},
   "outputs": [],
   "source": [
    "import scipy\n",
    "class LDA:\n",
    "    def __init__(self,train_data,labels,n_components=39):\n",
    "        self.X = train_data\n",
    "        self.labels = labels\n",
    "        self.n_components = n_components\n",
    "        self.trained = False \n",
    "        \n",
    "    def update_n_components(self,n):\n",
    "        if self.trained == True:\n",
    "            self.n_components = n\n",
    "            self.U = self.eigen_vectors[:,:self.n_components+1]   \n",
    "            self.A = self.X.dot(self.U)\n",
    "        \n",
    "    \n",
    "    def fit(self):\n",
    "        n_features = self.X.shape[1]\n",
    "        # between class scatter matrix\n",
    "        Sb = np.zeros((n_features,n_features))\n",
    "        S = np.zeros((n_features,n_features))\n",
    "        total_mu = np.mean(self.X,axis=0)\n",
    "        classes = np.unique(self.labels)\n",
    "        for label in classes:\n",
    "            X_k = self.X[self.labels==label]\n",
    "            mu_k = np.mean(X_k,axis=0)\n",
    "            n_k = X_k.shape[0]\n",
    "            xx = (mu_k - total_mu).reshape(-1,1)\n",
    "            # Sb += n_k * (xx.dot(xx.T))\n",
    "            Sb += n_k * np.dot(xx,xx.T)\n",
    "            Z_k = X_k - mu_k.reshape(-1,1).T\n",
    "            S_k = Z_k.T @ Z_k\n",
    "            S += S_k\n",
    "        temp = np.dot(np.linalg.inv(S),Sb)\n",
    "        # x,y = np.linalg.eigh(temp)\n",
    "        x,y = scipy.linalg.eig(temp)\n",
    "        idx = x.argsort()[::-1]   \n",
    "        self.eigen_values = x[idx]\n",
    "        eigen_vectors = y[:,idx]\n",
    "        self.eigen_vectors = np.array(eigen_vectors)\n",
    "        self.U = self.eigen_vectors[:,:self.n_components+1]   \n",
    "        self.A = self.X.dot(self.U)\n",
    "        self.trained = True\n",
    "        \n",
    "    def transform(self,X_new):\n",
    "        return X_new.dot(self.U)\n"
   ]
  },
  {
   "cell_type": "code",
   "execution_count": 12,
   "metadata": {},
   "outputs": [
    {
     "ename": "",
     "evalue": "",
     "output_type": "error",
     "traceback": [
      "\u001b[1;31mThe Kernel crashed while executing code in the the current cell or a previous cell. Please review the code in the cell(s) to identify a possible cause of the failure. Click <a href='https://aka.ms/vscodeJupyterKernelCrash'>here</a> for more info. View Jupyter <a href='command:jupyter.viewOutput'>log</a> for further details."
     ]
    },
    {
     "ename": "",
     "evalue": "",
     "output_type": "error",
     "traceback": [
      "\u001b[1;31mCanceled future for execute_request message before replies were done"
     ]
    }
   ],
   "source": [
    "lda=LDA(X_train,y_train)\n",
    "lda.fit()"
   ]
  },
  {
   "cell_type": "code",
   "execution_count": 12,
   "metadata": {},
   "outputs": [],
   "source": [
    "lda.update_n_components(60)"
   ]
  },
  {
   "cell_type": "code",
   "execution_count": 11,
   "metadata": {},
   "outputs": [
    {
     "name": "stdout",
     "output_type": "stream",
     "text": [
      "0.945\n"
     ]
    }
   ],
   "source": [
    "from sklearn.discriminant_analysis import LinearDiscriminantAnalysis\n",
    "ldaa = LinearDiscriminantAnalysis(n_components=39)\n",
    "ldaa.fit(X_train,y_train)\n",
    "y_pred = ldaa.predict(X_test)\n",
    "print(accuracy_score(y_pred,y_test))"
   ]
  },
  {
   "cell_type": "code",
   "execution_count": 12,
   "metadata": {},
   "outputs": [
    {
     "name": "stdout",
     "output_type": "stream",
     "text": [
      "k = 1\taverage accuracy = 94.5%\n",
      "k = 3\taverage accuracy = 88.5%\n",
      "k = 5\taverage accuracy = 83.0%\n",
      "k = 7\taverage accuracy = 80.0%\n"
     ]
    }
   ],
   "source": [
    "k_neighbors = np.arange(1,8,2)\n",
    "accuracies = []\n",
    "for i,k in enumerate(k_neighbors):\n",
    "    knn = KNN(n_neighbors=k)\n",
    "    knn.fit(lda.A,y_train)\n",
    "    y_pred = knn.predict((lda.transform(X_test)))\n",
    "    accuracies.append(accuracy_score(y_pred,y_test))\n",
    "    print(f\"k = {k}\\taverage accuracy = {accuracies[i]*100}%\")"
   ]
  },
  {
   "cell_type": "code",
   "execution_count": 272,
   "metadata": {},
   "outputs": [],
   "source": [
    "import os\n",
    "\n",
    "def load_non_faces(folder):\n",
    "    images = []\n",
    "    labels = []\n",
    "    for file in os.listdir(folder):\n",
    "        img=cv2.imread(os.path.join(folder,file),0)\n",
    "        img_resized =cv2.resize(img, (92,112))\n",
    "        images.append(img_resized.flatten())\n",
    "        labels.append(0)\n",
    "    return np.array(images),np.array(labels)"
   ]
  },
  {
   "cell_type": "code",
   "execution_count": 273,
   "metadata": {},
   "outputs": [],
   "source": [
    "images,labels_non = load_non_faces(\"./non_faces\")"
   ]
  },
  {
   "cell_type": "code",
   "execution_count": 274,
   "metadata": {},
   "outputs": [
    {
     "name": "stdout",
     "output_type": "stream",
     "text": [
      "(400,)\n",
      "(400, 10304)\n"
     ]
    }
   ],
   "source": [
    "print(labels_non.shape)\n",
    "print(images.shape)"
   ]
  },
  {
   "cell_type": "code",
   "execution_count": 275,
   "metadata": {},
   "outputs": [],
   "source": [
    "np.random.shuffle(images)\n",
    "dataset = np.append(X,images,axis=0)\n"
   ]
  },
  {
   "cell_type": "code",
   "execution_count": 276,
   "metadata": {},
   "outputs": [
    {
     "data": {
      "text/plain": [
       "array([1, 1, 1, 1, 1, 1, 1, 1, 1, 1, 1, 1, 1, 1, 1, 1, 1, 1, 1, 1, 1, 1,\n",
       "       1, 1, 1, 1, 1, 1, 1, 1, 1, 1, 1, 1, 1, 1, 1, 1, 1, 1, 1, 1, 1, 1,\n",
       "       1, 1, 1, 1, 1, 1, 1, 1, 1, 1, 1, 1, 1, 1, 1, 1, 1, 1, 1, 1, 1, 1,\n",
       "       1, 1, 1, 1, 1, 1, 1, 1, 1, 1, 1, 1, 1, 1, 1, 1, 1, 1, 1, 1, 1, 1,\n",
       "       1, 1, 1, 1, 1, 1, 1, 1, 1, 1, 1, 1, 1, 1, 1, 1, 1, 1, 1, 1, 1, 1,\n",
       "       1, 1, 1, 1, 1, 1, 1, 1, 1, 1, 1, 1, 1, 1, 1, 1, 1, 1, 1, 1, 1, 1,\n",
       "       1, 1, 1, 1, 1, 1, 1, 1, 1, 1, 1, 1, 1, 1, 1, 1, 1, 1, 1, 1, 1, 1,\n",
       "       1, 1, 1, 1, 1, 1, 1, 1, 1, 1, 1, 1, 1, 1, 1, 1, 1, 1, 1, 1, 1, 1,\n",
       "       1, 1, 1, 1, 1, 1, 1, 1, 1, 1, 1, 1, 1, 1, 1, 1, 1, 1, 1, 1, 1, 1,\n",
       "       1, 1, 1, 1, 1, 1, 1, 1, 1, 1, 1, 1, 1, 1, 1, 1, 1, 1, 1, 1, 1, 1,\n",
       "       1, 1, 1, 1, 1, 1, 1, 1, 1, 1, 1, 1, 1, 1, 1, 1, 1, 1, 1, 1, 1, 1,\n",
       "       1, 1, 1, 1, 1, 1, 1, 1, 1, 1, 1, 1, 1, 1, 1, 1, 1, 1, 1, 1, 1, 1,\n",
       "       1, 1, 1, 1, 1, 1, 1, 1, 1, 1, 1, 1, 1, 1, 1, 1, 1, 1, 1, 1, 1, 1,\n",
       "       1, 1, 1, 1, 1, 1, 1, 1, 1, 1, 1, 1, 1, 1, 1, 1, 1, 1, 1, 1, 1, 1,\n",
       "       1, 1, 1, 1, 1, 1, 1, 1, 1, 1, 1, 1, 1, 1, 1, 1, 1, 1, 1, 1, 1, 1,\n",
       "       1, 1, 1, 1, 1, 1, 1, 1, 1, 1, 1, 1, 1, 1, 1, 1, 1, 1, 1, 1, 1, 1,\n",
       "       1, 1, 1, 1, 1, 1, 1, 1, 1, 1, 1, 1, 1, 1, 1, 1, 1, 1, 1, 1, 1, 1,\n",
       "       1, 1, 1, 1, 1, 1, 1, 1, 1, 1, 1, 1, 1, 1, 1, 1, 1, 1, 1, 1, 1, 1,\n",
       "       1, 1, 1, 1, 0, 0, 0, 0, 0, 0, 0, 0, 0, 0, 0, 0, 0, 0, 0, 0, 0, 0,\n",
       "       0, 0, 0, 0, 0, 0, 0, 0, 0, 0, 0, 0, 0, 0, 0, 0, 0, 0, 0, 0, 0, 0,\n",
       "       0, 0, 0, 0, 0, 0, 0, 0, 0, 0, 0, 0, 0, 0, 0, 0, 0, 0, 0, 0, 0, 0,\n",
       "       0, 0, 0, 0, 0, 0, 0, 0, 0, 0, 0, 0, 0, 0, 0, 0, 0, 0, 0, 0, 0, 0,\n",
       "       0, 0, 0, 0, 0, 0, 0, 0, 0, 0, 0, 0, 0, 0, 0, 0, 0, 0, 0, 0, 0, 0,\n",
       "       0, 0, 0, 0, 0, 0, 0, 0, 0, 0, 0, 0, 0, 0, 0, 0, 0, 0, 0, 0, 0, 0,\n",
       "       0, 0, 0, 0, 0, 0, 0, 0, 0, 0, 0, 0, 0, 0, 0, 0, 0, 0, 0, 0, 0, 0,\n",
       "       0, 0, 0, 0, 0, 0, 0, 0, 0, 0, 0, 0, 0, 0, 0, 0, 0, 0, 0, 0, 0, 0,\n",
       "       0, 0, 0, 0, 0, 0, 0, 0, 0, 0, 0, 0, 0, 0, 0, 0, 0, 0, 0, 0, 0, 0,\n",
       "       0, 0, 0, 0, 0, 0, 0, 0, 0, 0, 0, 0, 0, 0, 0, 0, 0, 0, 0, 0, 0, 0,\n",
       "       0, 0, 0, 0, 0, 0, 0, 0, 0, 0, 0, 0, 0, 0, 0, 0, 0, 0, 0, 0, 0, 0,\n",
       "       0, 0, 0, 0, 0, 0, 0, 0, 0, 0, 0, 0, 0, 0, 0, 0, 0, 0, 0, 0, 0, 0,\n",
       "       0, 0, 0, 0, 0, 0, 0, 0, 0, 0, 0, 0, 0, 0, 0, 0, 0, 0, 0, 0, 0, 0,\n",
       "       0, 0, 0, 0, 0, 0, 0, 0, 0, 0, 0, 0, 0, 0, 0, 0, 0, 0, 0, 0, 0, 0,\n",
       "       0, 0, 0, 0, 0, 0, 0, 0, 0, 0, 0, 0, 0, 0, 0, 0, 0, 0, 0, 0, 0, 0,\n",
       "       0, 0, 0, 0, 0, 0, 0, 0, 0, 0, 0, 0, 0, 0, 0, 0, 0, 0, 0, 0, 0, 0,\n",
       "       0, 0, 0, 0, 0, 0, 0, 0, 0, 0, 0, 0, 0, 0, 0, 0, 0, 0, 0, 0, 0, 0,\n",
       "       0, 0, 0, 0, 0, 0, 0, 0, 0, 0, 0, 0, 0, 0, 0, 0, 0, 0, 0, 0, 0, 0,\n",
       "       0, 0, 0, 0, 0, 0, 0, 0])"
      ]
     },
     "execution_count": 276,
     "metadata": {},
     "output_type": "execute_result"
    }
   ],
   "source": [
    "labels_faces = np.ones([400,1])\n",
    "data_labels = np.append(labels_faces,labels_non).astype(int)\n",
    "data_labels"
   ]
  },
  {
   "cell_type": "code",
   "execution_count": 277,
   "metadata": {},
   "outputs": [],
   "source": [
    "X_train_new, y_train_new, X_test_new, y_test_new = train_test_split(dataset,data_labels)"
   ]
  },
  {
   "cell_type": "code",
   "execution_count": 278,
   "metadata": {},
   "outputs": [
    {
     "name": "stdout",
     "output_type": "stream",
     "text": [
      "Calculating mu: .. Done.\n",
      "Calculating Z: .. Done.\n",
      "Calculating covariance matrix: .. Done.\n",
      "Calculating eigen vectors and values: .. Done.\n",
      "Sorting eigen vectors and values: .. Done.\n",
      "Calculating sum of eigen vectors: .. Done. -- eigen vectors shape: (10304, 10304)\n",
      "Finding top n eigen values to reach alpha (0.8): .. Done. -- Found top 37 eigen values reach 0.8022821295570695 variance.\n"
     ]
    }
   ],
   "source": [
    "pca = PCA(X_train_new,0.80)\n",
    "pca.train()"
   ]
  },
  {
   "cell_type": "code",
   "execution_count": 279,
   "metadata": {},
   "outputs": [
    {
     "data": {
      "image/png": "[encoded data removed]",
      "text/plain": [
       "<Figure size 640x480 with 1 Axes>"
      ]
     },
     "metadata": {},
     "output_type": "display_data"
    }
   ],
   "source": [
    "img = np.reshape(X_train_new[209],(112,92))\n",
    "plt.imshow(img, cmap='gray')\n",
    "plt.show()"
   ]
  },
  {
   "cell_type": "code",
   "execution_count": 280,
   "metadata": {},
   "outputs": [
    {
     "name": "stdout",
     "output_type": "stream",
     "text": [
      "k = 1\taverage accuracy = 91.25%\n",
      "k = 3\taverage accuracy = 87.0%\n",
      "k = 5\taverage accuracy = 86.5%\n",
      "k = 7\taverage accuracy = 85.0%\n"
     ]
    }
   ],
   "source": [
    "k_neighbors = np.arange(1,8,2)\n",
    "accuracies = []\n",
    "for i,k in enumerate(k_neighbors):\n",
    "    knn = KNeighborsClassifier(n_neighbors=k)\n",
    "    knn.fit(pca.A.real,y_train_new)\n",
    "    y_pred = knn.predict((pca.transform(X_test_new).real))\n",
    "    accuracies.append(accuracy_score(y_pred,y_test_new))\n",
    "    print(f\"k = {k}\\taverage accuracy = {accuracies[i]*100}%\")"
   ]
  },
  {
   "cell_type": "code",
   "execution_count": 281,
   "metadata": {},
   "outputs": [
    {
     "name": "stdout",
     "output_type": "stream",
     "text": [
      "k = 1\taverage accuracy = 91.25%\n",
      "k = 3\taverage accuracy = 87.0%\n",
      "k = 5\taverage accuracy = 86.5%\n",
      "k = 7\taverage accuracy = 85.0%\n"
     ]
    }
   ],
   "source": [
    "k_neighbors = np.arange(1,8,2)\n",
    "accuracies = []\n",
    "for i,k in enumerate(k_neighbors):\n",
    "    knn = KNN(n_neighbors=k)\n",
    "    knn.fit(pca.A,y_train_new)\n",
    "    y_pred = knn.predict((pca.transform(X_test_new)))\n",
    "    accuracies.append(accuracy_score(y_pred,y_test_new))\n",
    "    print(f\"k = {k}\\taverage accuracy = {accuracies[i]*100}%\")"
   ]
  },
  {
   "cell_type": "code",
   "execution_count": 292,
   "metadata": {},
   "outputs": [
    {
     "name": "stdout",
     "output_type": "stream",
     "text": [
      "Finding top n eigen values to reach alpha (0.6): .. Done. -- Found top 8 eigen values reach 0.615632395147738 variance.\n"
     ]
    }
   ],
   "source": [
    "pca.update_alpha(0.6)"
   ]
  },
  {
   "cell_type": "code",
   "execution_count": 293,
   "metadata": {},
   "outputs": [
    {
     "name": "stdout",
     "output_type": "stream",
     "text": [
      "k = 1\taverage accuracy = 93.5%\n",
      "k = 3\taverage accuracy = 92.25%\n",
      "k = 5\taverage accuracy = 91.0%\n",
      "k = 7\taverage accuracy = 91.5%\n"
     ]
    }
   ],
   "source": [
    "k_neighbors = np.arange(1,8,2)\n",
    "accuracies = []\n",
    "for i,k in enumerate(k_neighbors):\n",
    "    knn = KNN(n_neighbors=k)\n",
    "    knn.fit(pca.A,y_train_new)\n",
    "    y_pred = knn.predict((pca.transform(X_test_new)))\n",
    "    accuracies.append(accuracy_score(y_pred,y_test_new))\n",
    "    print(f\"k = {k}\\taverage accuracy = {accuracies[i]*100}%\")"
   ]
  },
  {
   "cell_type": "code",
   "execution_count": null,
   "metadata": {},
   "outputs": [],
   "source": []
  }
 ],
 "metadata": {
  "kernelspec": {
   "display_name": "Python 3",
   "language": "python",
   "name": "python3"
  },
  "language_info": {
   "codemirror_mode": {
    "name": "ipython",
    "version": 3
   },
   "file_extension": ".py",
   "mimetype": "text/x-python",
   "name": "python",
   "nbconvert_exporter": "python",
   "pygments_lexer": "ipython3",
   "version": "3.10.8"
  },
  "orig_nbformat": 4,
  "vscode": {
   "interpreter": {
    "hash": "1a7959b352381a7a27ad519c9265a0ff1a41aa6a0a335848b4ab02493aea1123"
   }
  }
 },
 "nbformat": 4,
 "nbformat_minor": 2
}
